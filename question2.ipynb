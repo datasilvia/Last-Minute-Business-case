{
 "cells": [
  {
   "cell_type": "markdown",
   "metadata": {},
   "source": [
    "## Question 2:\n",
    "\n",
    "\n",
    "Referring to Figure 1 below which depicts the evolution of the payment activation rate,\n",
    "there appears to be a visible decline from April to August 2023.\n",
    "In March 2023, two significant changes were introduced:\n",
    "\n",
    "1. Hoteliers were given the option to make annual payments for their plans as a default.\n",
    "\n",
    "\n",
    "2. Monthly payments were increased.These changes may have influenced the payment activation behavior. \n",
    "\n",
    "\n",
    "Given this context, could the observed decline in the payment activation rate be purely random, or is it possibly influenced by the\n",
    "introduction of annual payment plans and the increase in monthly payments? Please explain the\n",
    "methodology behind your answer.\n",
    "\n",
    "![Graphic of the monthly evolution of payment activation rate](images/payment.jpeg \"Monthly evolution of payment activation rate\")"
   ]
  },
  {
   "cell_type": "code",
   "execution_count": 3,
   "metadata": {},
   "outputs": [
    {
     "data": {
      "text/html": [
       "<div>\n",
       "<style scoped>\n",
       "    .dataframe tbody tr th:only-of-type {\n",
       "        vertical-align: middle;\n",
       "    }\n",
       "\n",
       "    .dataframe tbody tr th {\n",
       "        vertical-align: top;\n",
       "    }\n",
       "\n",
       "    .dataframe thead th {\n",
       "        text-align: right;\n",
       "    }\n",
       "</style>\n",
       "<table border=\"1\" class=\"dataframe\">\n",
       "  <thead>\n",
       "    <tr style=\"text-align: right;\">\n",
       "      <th></th>\n",
       "      <th>month</th>\n",
       "      <th>payment_activation_rate</th>\n",
       "    </tr>\n",
       "  </thead>\n",
       "  <tbody>\n",
       "    <tr>\n",
       "      <th>0</th>\n",
       "      <td>2022-04</td>\n",
       "      <td>76.40%</td>\n",
       "    </tr>\n",
       "    <tr>\n",
       "      <th>1</th>\n",
       "      <td>2022-05</td>\n",
       "      <td>75.30%</td>\n",
       "    </tr>\n",
       "    <tr>\n",
       "      <th>2</th>\n",
       "      <td>2022-06</td>\n",
       "      <td>76.00%</td>\n",
       "    </tr>\n",
       "    <tr>\n",
       "      <th>3</th>\n",
       "      <td>2022-07</td>\n",
       "      <td>73.00%</td>\n",
       "    </tr>\n",
       "    <tr>\n",
       "      <th>4</th>\n",
       "      <td>2022-08</td>\n",
       "      <td>73.80%</td>\n",
       "    </tr>\n",
       "  </tbody>\n",
       "</table>\n",
       "</div>"
      ],
      "text/plain": [
       "     month payment_activation_rate\n",
       "0  2022-04                  76.40%\n",
       "1  2022-05                  75.30%\n",
       "2  2022-06                  76.00%\n",
       "3  2022-07                  73.00%\n",
       "4  2022-08                  73.80%"
      ]
     },
     "execution_count": 3,
     "metadata": {},
     "output_type": "execute_result"
    }
   ],
   "source": [
    "import pandas as pd\n",
    "\n",
    "# data load\n",
    "\n",
    "df = pd.read_csv('payment_activation_rate.csv')\n",
    "\n",
    "\n",
    "df.head()\n"
   ]
  },
  {
   "cell_type": "code",
   "execution_count": 4,
   "metadata": {},
   "outputs": [
    {
     "data": {
      "text/html": [
       "<div>\n",
       "<style scoped>\n",
       "    .dataframe tbody tr th:only-of-type {\n",
       "        vertical-align: middle;\n",
       "    }\n",
       "\n",
       "    .dataframe tbody tr th {\n",
       "        vertical-align: top;\n",
       "    }\n",
       "\n",
       "    .dataframe thead th {\n",
       "        text-align: right;\n",
       "    }\n",
       "</style>\n",
       "<table border=\"1\" class=\"dataframe\">\n",
       "  <thead>\n",
       "    <tr style=\"text-align: right;\">\n",
       "      <th></th>\n",
       "      <th>month</th>\n",
       "      <th>payment_activation_rate</th>\n",
       "    </tr>\n",
       "  </thead>\n",
       "  <tbody>\n",
       "    <tr>\n",
       "      <th>0</th>\n",
       "      <td>2022-04-01</td>\n",
       "      <td>76.4</td>\n",
       "    </tr>\n",
       "    <tr>\n",
       "      <th>1</th>\n",
       "      <td>2022-05-01</td>\n",
       "      <td>75.3</td>\n",
       "    </tr>\n",
       "    <tr>\n",
       "      <th>2</th>\n",
       "      <td>2022-06-01</td>\n",
       "      <td>76.0</td>\n",
       "    </tr>\n",
       "    <tr>\n",
       "      <th>3</th>\n",
       "      <td>2022-07-01</td>\n",
       "      <td>73.0</td>\n",
       "    </tr>\n",
       "    <tr>\n",
       "      <th>4</th>\n",
       "      <td>2022-08-01</td>\n",
       "      <td>73.8</td>\n",
       "    </tr>\n",
       "  </tbody>\n",
       "</table>\n",
       "</div>"
      ],
      "text/plain": [
       "       month  payment_activation_rate\n",
       "0 2022-04-01                     76.4\n",
       "1 2022-05-01                     75.3\n",
       "2 2022-06-01                     76.0\n",
       "3 2022-07-01                     73.0\n",
       "4 2022-08-01                     73.8"
      ]
     },
     "execution_count": 4,
     "metadata": {},
     "output_type": "execute_result"
    }
   ],
   "source": [
    "# cleaning and converting 'payment_activation_rate' column to numeric values\n",
    "df['payment_activation_rate'] = df['payment_activation_rate'].str.replace('%', '').astype(float)\n",
    "\n",
    "# 'month' to datetime\n",
    "df['month'] = pd.to_datetime(df['month'])\n",
    "\n",
    "\n",
    "df.head()\n"
   ]
  },
  {
   "cell_type": "code",
   "execution_count": 10,
   "metadata": {},
   "outputs": [
    {
     "name": "stdout",
     "output_type": "stream",
     "text": [
      "Stats before March 2023: \n",
      "count    11.000000\n",
      "mean     76.072727\n",
      "std       1.507376\n",
      "min      73.000000\n",
      "25%      75.650000\n",
      "50%      76.400000\n",
      "75%      77.200000\n",
      "max      77.600000\n",
      "Name: payment_activation_rate, dtype: float64, \n",
      "  \n",
      "Stats after March 2023: \n",
      "count     7.000000\n",
      "mean     71.042857\n",
      "std       4.342372\n",
      "min      66.300000\n",
      "25%      68.850000\n",
      "50%      69.600000\n",
      "75%      71.950000\n",
      "max      79.800000\n",
      "Name: payment_activation_rate, dtype: float64\n"
     ]
    }
   ],
   "source": [
    "# Before and After  march  2023\n",
    "before_march_2023 = df[df['month'] < '2023-03-01']['payment_activation_rate']\n",
    "after_march_2023 = df[df['month'] >= '2023-03-01']['payment_activation_rate']\n",
    "\n",
    "\n",
    "stats_before = before_march_2023.describe()\n",
    "stats_after = after_march_2023.describe()\n",
    "\n",
    "print(f\"Stats before March 2023: \\n{stats_before}, \\n  \\nStats after March 2023: \\n{stats_after}\")\n"
   ]
  },
  {
   "cell_type": "markdown",
   "metadata": {},
   "source": [
    "#### Initial Observations:\n",
    "\n",
    "There is a clear decrease in the average payment activation after March 2023.\n",
    "The variability (standard deviation) also increased significantly after March, suggesting greater instability."
   ]
  },
  {
   "cell_type": "markdown",
   "metadata": {},
   "source": [
    "Now we should perform a **hypothesis test (t-test)**  to determine if this difference is statistically significant."
   ]
  },
  {
   "cell_type": "code",
   "execution_count": null,
   "metadata": {},
   "outputs": [
    {
     "data": {
      "text/plain": [
       "(2.9534869071438155, 0.021544550919744315)"
      ]
     },
     "execution_count": 11,
     "metadata": {},
     "output_type": "execute_result"
    }
   ],
   "source": [
    "from scipy.stats import ttest_ind\n",
    "\n",
    "# t-test to compare after and before March 2023\n",
    "t_stat, p_value = ttest_ind(before_march_2023, after_march_2023, equal_var=False)\n",
    "\n",
    "t_stat, p_value\n"
   ]
  },
  {
   "cell_type": "markdown",
   "metadata": {},
   "source": [
    "#### Interpretation:\n",
    "\n",
    "With a significance level of 5% (α = 0.05):\n",
    "\n",
    "The **p-value 0.0215** is less than 0.05, so we **reject the null hypothesis** (H₀).\n",
    "This indicates that there is a statistically significant difference between the average payment activation rate before and after March 2023.\n",
    "\n",
    "\n",
    "#### Conclusion:\n",
    "\n",
    "The drop in payment activation rate after March is not random. \n",
    "It is likely to be influenced by the changes introduced (annual plans and increase in monthly payments)."
   ]
  }
 ],
 "metadata": {
  "kernelspec": {
   "display_name": "base",
   "language": "python",
   "name": "python3"
  },
  "language_info": {
   "codemirror_mode": {
    "name": "ipython",
    "version": 3
   },
   "file_extension": ".py",
   "mimetype": "text/x-python",
   "name": "python",
   "nbconvert_exporter": "python",
   "pygments_lexer": "ipython3",
   "version": "3.12.4"
  }
 },
 "nbformat": 4,
 "nbformat_minor": 2
}
