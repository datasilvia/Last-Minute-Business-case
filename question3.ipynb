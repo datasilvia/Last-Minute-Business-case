{
 "cells": [
  {
   "cell_type": "markdown",
   "metadata": {},
   "source": [
    "## Question 3: \n",
    "\n",
    "List the main potential revenue impacts of increasing monthly subscription prices and\n",
    "introducing annual subscription plans."
   ]
  },
  {
   "cell_type": "markdown",
   "metadata": {},
   "source": [
    "#### Potential Impacts on Revenue\n",
    "\n",
    "\n",
    "1. Positives:\n",
    "\n",
    "\n",
    "- **Annual plans ensure stable income**: They reduce monthly cancellations and offer predictable income.\n",
    "\n",
    "- **Higher average income per customer**: Price increases increase the income if there is no significant drop in customers.\n",
    "\n",
    "- **Attract new customers with annual discounts**: Encourage higher value subscriptions.\n",
    "\n",
    "\n",
    "2. Negatives:\n",
    "\n",
    "\n",
    "- **Loss of price-sensitive customers**: A monthly increase could anger some users, and even cause them to cancel their subscription..\n",
    "\n",
    "- **Liquidity problems**: Annual plans change the constant monthly flow for less frequent payments.\n",
    "\n",
    "- **High upfront costs**: Discounts and marketing campaigns for annual plans can reduce short-term benefits.\n"
   ]
  },
  {
   "cell_type": "markdown",
   "metadata": {},
   "source": [
    "#### Key Strategies:\n",
    "\n",
    "- Offer gradual discounts to smooth the transition.\n",
    "\n",
    "- Segment prices to retain sensitive customers and attract premium.\n",
    "\n",
    "- Analyze price elasticity to predict how customers will react.\n",
    "\n",
    "\n",
    "In short, ##success will depend on balancing increasing price revenue with customer retention##.\n",
    "\n"
   ]
  },
  {
   "cell_type": "markdown",
   "metadata": {},
   "source": []
  }
 ],
 "metadata": {
  "language_info": {
   "name": "python"
  }
 },
 "nbformat": 4,
 "nbformat_minor": 2
}
